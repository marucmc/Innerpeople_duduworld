{
 "cells": [
  {
   "cell_type": "code",
   "execution_count": 1,
   "id": "26564665",
   "metadata": {},
   "outputs": [],
   "source": [
    "import pandas as pd\n",
    "import numpy as np\n",
    "import time\n",
    "import re\n",
    "\n",
    "from bs4 import BeautifulSoup\n",
    "from selenium import webdriver\n",
    "from selenium.webdriver.common.keys import Keys\n",
    "keys = Keys()\n",
    "from selenium.common.exceptions import NoSuchElementException\n",
    "from selenium.webdriver.common.by import By\n",
    "from urllib.parse import quote"
   ]
  },
  {
   "cell_type": "code",
   "execution_count": 2,
   "id": "655b63ca",
   "metadata": {},
   "outputs": [
    {
     "name": "stderr",
     "output_type": "stream",
     "text": [
      "C:\\Users\\junoh\\AppData\\Local\\Temp/ipykernel_23940/4049403213.py:1: DeprecationWarning: executable_path has been deprecated, please pass in a Service object\n",
      "  driver = webdriver.Chrome(r'C:\\Users\\junoh\\Documents\\temp\\chromedriver.exe')\n"
     ]
    }
   ],
   "source": [
    "driver = webdriver.Chrome(r'C:\\Users\\junoh\\Documents\\temp\\chromedriver.exe')"
   ]
  },
  {
   "cell_type": "code",
   "execution_count": 3,
   "id": "ca9748f4",
   "metadata": {},
   "outputs": [
    {
     "name": "stdout",
     "output_type": "stream",
     "text": [
      "주의 : 복수의 검색어 입력 시 단어 사이에 %20 을 꼭 넣어야 함. 예 : 배달음식%20위생%20메뉴\n",
      "1. 검색어를 입력하세요 : 배달음식%20위생%20메뉴\n",
      "2. 검색 할 페이지 수를 입력하세요.( 페이지당 7건 article 이 있음. 예를 들어, 10 페이지 선색 시, 총 70건 article) : 11\n"
     ]
    }
   ],
   "source": [
    "base_url = 'https://section.blog.naver.com/Search/Post.naver?pageNo=1&rangeType=ALL&orderBy=sim&keyword='\n",
    "print('주의 : 복수의 검색어 입력 시 단어 사이에 %20 을 꼭 넣어야 함. 예 : 배달음식%20위생%20메뉴')\n",
    "query = input('1. 검색어를 입력하세요 : ')\n",
    "page_num = int(input('2. 검색 할 페이지 수를 입력하세요.( 페이지당 7건 article 이 있음. 예를 들어, 10 페이지 선색 시, 총 70건 article) : '))"
   ]
  },
  {
   "cell_type": "code",
   "execution_count": 4,
   "id": "6a6315af",
   "metadata": {},
   "outputs": [],
   "source": [
    "blog = {'header':[], 'content':[]}\n",
    "\n",
    "for i in range(1, page_num+1):\n",
    "    url = 'https://section.blog.naver.com/Search/Post.naver?pageNo='+str(i)+'&rangeType=ALL&orderBy=sim&keyword='+format(query)\n",
    "    driver.get(url)\n",
    "    time.sleep(2)\n",
    "    \n",
    "    for j in range(0,7):\n",
    "        html = driver.page_source\n",
    "        bs_obj = BeautifulSoup(html, 'html.parser')\n",
    "        title = bs_obj.find_all('span', {'class' : 'title'})\n",
    "        title = title[j].text\n",
    "        title = re.sub('[^ㄱ-힣0-9]', ' ', title)\n",
    "        sub = bs_obj.find_all('a', {'class':'text'})\n",
    "        sub = sub[j].text \n",
    "        sub = re.sub('[^ㄱ-힣0-9]', ' ', sub)\n",
    "        blog['header'].append(title)\n",
    "        blog['content'].append(sub)\n",
    "        \n",
    "        "
   ]
  },
  {
   "cell_type": "code",
   "execution_count": 5,
   "id": "efe76ccc",
   "metadata": {},
   "outputs": [],
   "source": [
    "blog_df = pd.DataFrame(blog)"
   ]
  },
  {
   "cell_type": "code",
   "execution_count": 6,
   "id": "c771a5b4",
   "metadata": {},
   "outputs": [
    {
     "data": {
      "text/html": [
       "<div>\n",
       "<style scoped>\n",
       "    .dataframe tbody tr th:only-of-type {\n",
       "        vertical-align: middle;\n",
       "    }\n",
       "\n",
       "    .dataframe tbody tr th {\n",
       "        vertical-align: top;\n",
       "    }\n",
       "\n",
       "    .dataframe thead th {\n",
       "        text-align: right;\n",
       "    }\n",
       "</style>\n",
       "<table border=\"1\" class=\"dataframe\">\n",
       "  <thead>\n",
       "    <tr style=\"text-align: right;\">\n",
       "      <th></th>\n",
       "      <th>header</th>\n",
       "      <th>content</th>\n",
       "    </tr>\n",
       "  </thead>\n",
       "  <tbody>\n",
       "    <tr>\n",
       "      <th>0</th>\n",
       "      <td>역삼동 배달맛집 찜요리 전문  배달음식위생 까지 완벽</td>\n",
       "      <td>배달음식위생 좋은 식당을 찾게 되더라구요 단순히 제 기준에서만 맛있으면 안되니 역삼...</td>\n",
       "    </tr>\n",
       "    <tr>\n",
       "      <th>1</th>\n",
       "      <td>이수역 남성시장 인생닭강정  메뉴  가격  위생  배달</td>\n",
       "      <td>사장님 친절하시고 센스있으시고 위생깨끗하며 강정도맛있는 남성시장 인생닭강정 꼭 드셔...</td>\n",
       "    </tr>\n",
       "    <tr>\n",
       "      <th>2</th>\n",
       "      <td>설연휴 배달음식  치킨 말고 이 메뉴 어때    베트남음식</td>\n",
       "      <td>해장음식  해장메뉴 또한 포메인은 메뉴 개발뿐만 아니라  최근에는 공장 설비  위생...</td>\n",
       "    </tr>\n",
       "    <tr>\n",
       "      <th>3</th>\n",
       "      <td>코로나에 음식배달 74    배달업체 위생단속 집중대상</td>\n",
       "      <td>다양한 메뉴를 집에서 먹을 수 있는 배달음식의 수요가 증가할 수 있는 조건이 충분하...</td>\n",
       "    </tr>\n",
       "    <tr>\n",
       "      <th>4</th>\n",
       "      <td>간단한 점심메뉴 배달음식 할인받은 신메뉴 추천 큰맘할매순대국 돼지곱창볶음</td>\n",
       "      <td>신메뉴라는 걸 강조하고 있는 거 있죠  순대국  추어탕 등과 같이 진한 국물음식에서...</td>\n",
       "    </tr>\n",
       "    <tr>\n",
       "      <th>...</th>\n",
       "      <td>...</td>\n",
       "      <td>...</td>\n",
       "    </tr>\n",
       "    <tr>\n",
       "      <th>72</th>\n",
       "      <td>배달음식위생 요기요 어플에 세스코 마크 확인하세요</td>\n",
       "      <td>ㅎㅎ 이렇게 자주 이용하는 저 역시도 늘 걱정되면서도 마음 한편에 자리 잡은 의문이...</td>\n",
       "    </tr>\n",
       "    <tr>\n",
       "      <th>73</th>\n",
       "      <td>도곡동 대치동 배달 음식 도곡 지오바니 배달 메뉴 개시</td>\n",
       "      <td>배달음식하면 걱정스럽던 위생상태    안심하고 배달 주문하세요  저희 도곡 지오바니...</td>\n",
       "    </tr>\n",
       "    <tr>\n",
       "      <th>74</th>\n",
       "      <td>배달음식  제천 장락동  푸라닭  고추마요 순살</td>\n",
       "      <td>지금부터라도 모두들 개인위생 잘지켜서 곧 괜찮아질 거라고 기도해요  그래서 주말에 ...</td>\n",
       "    </tr>\n",
       "    <tr>\n",
       "      <th>75</th>\n",
       "      <td>배달 온 음식보고 화나서 쓰는 음식장난 경험 세가지</td>\n",
       "      <td>사실 난 음식점 가서 음식 먹을때 맛이나 위생 머 그런 것에 문제가 있어도 그다지 ...</td>\n",
       "    </tr>\n",
       "    <tr>\n",
       "      <th>76</th>\n",
       "      <td>국민낙곱새 춘천점 배달 비조리 배달음식 국민낙곱새</td>\n",
       "      <td>울 아들이 생각하는 엄마의 대표 집밥메뉴가 무엇일까 문득 궁금해진다  아마 아들은 ...</td>\n",
       "    </tr>\n",
       "  </tbody>\n",
       "</table>\n",
       "<p>77 rows × 2 columns</p>\n",
       "</div>"
      ],
      "text/plain": [
       "                                      header  \\\n",
       "0              역삼동 배달맛집 찜요리 전문  배달음식위생 까지 완벽   \n",
       "1            이수역 남성시장 인생닭강정  메뉴  가격  위생  배달    \n",
       "2           설연휴 배달음식  치킨 말고 이 메뉴 어때    베트남음식   \n",
       "3             코로나에 음식배달 74    배달업체 위생단속 집중대상   \n",
       "4   간단한 점심메뉴 배달음식 할인받은 신메뉴 추천 큰맘할매순대국 돼지곱창볶음   \n",
       "..                                       ...   \n",
       "72               배달음식위생 요기요 어플에 세스코 마크 확인하세요   \n",
       "73            도곡동 대치동 배달 음식 도곡 지오바니 배달 메뉴 개시   \n",
       "74                배달음식  제천 장락동  푸라닭  고추마요 순살   \n",
       "75              배달 온 음식보고 화나서 쓰는 음식장난 경험 세가지   \n",
       "76               국민낙곱새 춘천점 배달 비조리 배달음식 국민낙곱새   \n",
       "\n",
       "                                              content  \n",
       "0   배달음식위생 좋은 식당을 찾게 되더라구요 단순히 제 기준에서만 맛있으면 안되니 역삼...  \n",
       "1   사장님 친절하시고 센스있으시고 위생깨끗하며 강정도맛있는 남성시장 인생닭강정 꼭 드셔...  \n",
       "2   해장음식  해장메뉴 또한 포메인은 메뉴 개발뿐만 아니라  최근에는 공장 설비  위생...  \n",
       "3   다양한 메뉴를 집에서 먹을 수 있는 배달음식의 수요가 증가할 수 있는 조건이 충분하...  \n",
       "4   신메뉴라는 걸 강조하고 있는 거 있죠  순대국  추어탕 등과 같이 진한 국물음식에서...  \n",
       "..                                                ...  \n",
       "72  ㅎㅎ 이렇게 자주 이용하는 저 역시도 늘 걱정되면서도 마음 한편에 자리 잡은 의문이...  \n",
       "73  배달음식하면 걱정스럽던 위생상태    안심하고 배달 주문하세요  저희 도곡 지오바니...  \n",
       "74  지금부터라도 모두들 개인위생 잘지켜서 곧 괜찮아질 거라고 기도해요  그래서 주말에 ...  \n",
       "75  사실 난 음식점 가서 음식 먹을때 맛이나 위생 머 그런 것에 문제가 있어도 그다지 ...  \n",
       "76  울 아들이 생각하는 엄마의 대표 집밥메뉴가 무엇일까 문득 궁금해진다  아마 아들은 ...  \n",
       "\n",
       "[77 rows x 2 columns]"
      ]
     },
     "execution_count": 6,
     "metadata": {},
     "output_type": "execute_result"
    }
   ],
   "source": [
    "blog_df"
   ]
  },
  {
   "cell_type": "code",
   "execution_count": null,
   "id": "d57f79e0",
   "metadata": {},
   "outputs": [],
   "source": []
  }
 ],
 "metadata": {
  "kernelspec": {
   "display_name": "Python 3 (ipykernel)",
   "language": "python",
   "name": "python3"
  },
  "language_info": {
   "codemirror_mode": {
    "name": "ipython",
    "version": 3
   },
   "file_extension": ".py",
   "mimetype": "text/x-python",
   "name": "python",
   "nbconvert_exporter": "python",
   "pygments_lexer": "ipython3",
   "version": "3.9.7"
  }
 },
 "nbformat": 4,
 "nbformat_minor": 5
}
