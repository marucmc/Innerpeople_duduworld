{
 "cells": [
  {
   "cell_type": "code",
   "execution_count": 2,
   "id": "512e4bbb",
   "metadata": {},
   "outputs": [],
   "source": [
    "import pandas as pd\n",
    "import numpy as np\n",
    "import matplotlib.pyplot as plt\n",
    "plt.style.use('seaborn-white')"
   ]
  },
  {
   "cell_type": "code",
   "execution_count": 8,
   "id": "9ae8a550",
   "metadata": {},
   "outputs": [],
   "source": [
    "raw_df = pd.read_csv(r'C:\\Users\\junoh\\OneDrive\\이너피플\\git\\두두월드\\고객세분화_dudu.csv')"
   ]
  },
  {
   "cell_type": "code",
   "execution_count": 9,
   "id": "488f8e54",
   "metadata": {},
   "outputs": [
    {
     "data": {
      "text/html": [
       "<div>\n",
       "<style scoped>\n",
       "    .dataframe tbody tr th:only-of-type {\n",
       "        vertical-align: middle;\n",
       "    }\n",
       "\n",
       "    .dataframe tbody tr th {\n",
       "        vertical-align: top;\n",
       "    }\n",
       "\n",
       "    .dataframe thead th {\n",
       "        text-align: right;\n",
       "    }\n",
       "</style>\n",
       "<table border=\"1\" class=\"dataframe\">\n",
       "  <thead>\n",
       "    <tr style=\"text-align: right;\">\n",
       "      <th></th>\n",
       "      <th>Unnamed: 0</th>\n",
       "      <th>주문번호</th>\n",
       "      <th>품목별 주문번호</th>\n",
       "      <th>배송번호</th>\n",
       "      <th>주문상품코드</th>\n",
       "      <th>주문상품명</th>\n",
       "      <th>상품옵션(옵션가격/타이틀미노출)</th>\n",
       "      <th>옵션별상품코드</th>\n",
       "      <th>주문품목 수량</th>\n",
       "      <th>주문품목 단가</th>\n",
       "      <th>...</th>\n",
       "      <th>성별</th>\n",
       "      <th>나이</th>\n",
       "      <th>회원그룹</th>\n",
       "      <th>구매건수</th>\n",
       "      <th>구매금액</th>\n",
       "      <th>최근주문일</th>\n",
       "      <th>최근로그인</th>\n",
       "      <th>유입경로.1</th>\n",
       "      <th>유입검색어</th>\n",
       "      <th>가입경로</th>\n",
       "    </tr>\n",
       "  </thead>\n",
       "  <tbody>\n",
       "    <tr>\n",
       "      <th>0</th>\n",
       "      <td>0</td>\n",
       "      <td>20210901000757-68539640174</td>\n",
       "      <td>20210901000757-68539640174_[1]</td>\n",
       "      <td>S-21090100-260412059-01</td>\n",
       "      <td>13003000002</td>\n",
       "      <td>사각실속기프트세트</td>\n",
       "      <td>NaN</td>\n",
       "      <td>M83-0000000000000001</td>\n",
       "      <td>1</td>\n",
       "      <td>11900</td>\n",
       "      <td>...</td>\n",
       "      <td>여</td>\n",
       "      <td>63</td>\n",
       "      <td>그린(일반)</td>\n",
       "      <td>1</td>\n",
       "      <td>62900</td>\n",
       "      <td>2021-09-01</td>\n",
       "      <td>2021-09-01</td>\n",
       "      <td>www.silicook.co.kr/m</td>\n",
       "      <td>0</td>\n",
       "      <td>MOBILE</td>\n",
       "    </tr>\n",
       "    <tr>\n",
       "      <th>1</th>\n",
       "      <td>1</td>\n",
       "      <td>20210901000757-68539640174</td>\n",
       "      <td>20210901000757-68539640174_[2]</td>\n",
       "      <td>S-21090100-260412059-00</td>\n",
       "      <td>13007000013</td>\n",
       "      <td>납작이 1+1세트,홈쇼핑구성</td>\n",
       "      <td>NaN</td>\n",
       "      <td>M1301-00000000000001</td>\n",
       "      <td>1</td>\n",
       "      <td>54000</td>\n",
       "      <td>...</td>\n",
       "      <td>여</td>\n",
       "      <td>63</td>\n",
       "      <td>그린(일반)</td>\n",
       "      <td>1</td>\n",
       "      <td>62900</td>\n",
       "      <td>2021-09-01</td>\n",
       "      <td>2021-09-01</td>\n",
       "      <td>www.silicook.co.kr/m</td>\n",
       "      <td>0</td>\n",
       "      <td>MOBILE</td>\n",
       "    </tr>\n",
       "    <tr>\n",
       "      <th>2</th>\n",
       "      <td>2</td>\n",
       "      <td>20210901001324-15711112237</td>\n",
       "      <td>20210901001324-15711112237_[1]</td>\n",
       "      <td>S-21090100-407834699-04</td>\n",
       "      <td>14006000052</td>\n",
       "      <td>슬라이딩트레이3개세트</td>\n",
       "      <td>NaN</td>\n",
       "      <td>M374-000000000000001</td>\n",
       "      <td>1</td>\n",
       "      <td>6900</td>\n",
       "      <td>...</td>\n",
       "      <td>여</td>\n",
       "      <td>33</td>\n",
       "      <td>그린(일반)</td>\n",
       "      <td>1</td>\n",
       "      <td>47900</td>\n",
       "      <td>2021-09-01</td>\n",
       "      <td>2021-09-02</td>\n",
       "      <td>www.silicook.co.kr/m</td>\n",
       "      <td>0</td>\n",
       "      <td>MOBILE</td>\n",
       "    </tr>\n",
       "    <tr>\n",
       "      <th>3</th>\n",
       "      <td>3</td>\n",
       "      <td>20210901001324-15711112237</td>\n",
       "      <td>20210901001324-15711112237_[2]</td>\n",
       "      <td>S-21090100-407834699-03</td>\n",
       "      <td>14007000004</td>\n",
       "      <td>서랍칸 다용도박스 세트</td>\n",
       "      <td></td>\n",
       "      <td>M390-000000000000002</td>\n",
       "      <td>1</td>\n",
       "      <td>6800</td>\n",
       "      <td>...</td>\n",
       "      <td>여</td>\n",
       "      <td>33</td>\n",
       "      <td>그린(일반)</td>\n",
       "      <td>1</td>\n",
       "      <td>47900</td>\n",
       "      <td>2021-09-01</td>\n",
       "      <td>2021-09-02</td>\n",
       "      <td>www.silicook.co.kr/m</td>\n",
       "      <td>0</td>\n",
       "      <td>MOBILE</td>\n",
       "    </tr>\n",
       "    <tr>\n",
       "      <th>4</th>\n",
       "      <td>4</td>\n",
       "      <td>20210901001324-15711112237</td>\n",
       "      <td>20210901001324-15711112237_[3]</td>\n",
       "      <td>S-21090100-407834699-02</td>\n",
       "      <td>14005000002</td>\n",
       "      <td>원더바스켓 일자 확장형 선반</td>\n",
       "      <td>NaN</td>\n",
       "      <td>M410-000000000000001</td>\n",
       "      <td>1</td>\n",
       "      <td>12900</td>\n",
       "      <td>...</td>\n",
       "      <td>여</td>\n",
       "      <td>33</td>\n",
       "      <td>그린(일반)</td>\n",
       "      <td>1</td>\n",
       "      <td>47900</td>\n",
       "      <td>2021-09-01</td>\n",
       "      <td>2021-09-02</td>\n",
       "      <td>www.silicook.co.kr/m</td>\n",
       "      <td>0</td>\n",
       "      <td>MOBILE</td>\n",
       "    </tr>\n",
       "  </tbody>\n",
       "</table>\n",
       "<p>5 rows × 51 columns</p>\n",
       "</div>"
      ],
      "text/plain": [
       "   Unnamed: 0                        주문번호                        품목별 주문번호  \\\n",
       "0           0  20210901000757-68539640174  20210901000757-68539640174_[1]   \n",
       "1           1  20210901000757-68539640174  20210901000757-68539640174_[2]   \n",
       "2           2  20210901001324-15711112237  20210901001324-15711112237_[1]   \n",
       "3           3  20210901001324-15711112237  20210901001324-15711112237_[2]   \n",
       "4           4  20210901001324-15711112237  20210901001324-15711112237_[3]   \n",
       "\n",
       "                      배송번호       주문상품코드            주문상품명 상품옵션(옵션가격/타이틀미노출)  \\\n",
       "0  S-21090100-260412059-01  13003000002        사각실속기프트세트               NaN   \n",
       "1  S-21090100-260412059-00  13007000013  납작이 1+1세트,홈쇼핑구성               NaN   \n",
       "2  S-21090100-407834699-04  14006000052      슬라이딩트레이3개세트               NaN   \n",
       "3  S-21090100-407834699-03  14007000004     서랍칸 다용도박스 세트                     \n",
       "4  S-21090100-407834699-02  14005000002  원더바스켓 일자 확장형 선반               NaN   \n",
       "\n",
       "                옵션별상품코드  주문품목 수량  주문품목 단가  ...  성별  나이    회원그룹 구매건수   구매금액  \\\n",
       "0  M83-0000000000000001        1    11900  ...   여  63  그린(일반)    1  62900   \n",
       "1  M1301-00000000000001        1    54000  ...   여  63  그린(일반)    1  62900   \n",
       "2  M374-000000000000001        1     6900  ...   여  33  그린(일반)    1  47900   \n",
       "3  M390-000000000000002        1     6800  ...   여  33  그린(일반)    1  47900   \n",
       "4  M410-000000000000001        1    12900  ...   여  33  그린(일반)    1  47900   \n",
       "\n",
       "        최근주문일       최근로그인                유입경로.1  유입검색어    가입경로  \n",
       "0  2021-09-01  2021-09-01  www.silicook.co.kr/m      0  MOBILE  \n",
       "1  2021-09-01  2021-09-01  www.silicook.co.kr/m      0  MOBILE  \n",
       "2  2021-09-01  2021-09-02  www.silicook.co.kr/m      0  MOBILE  \n",
       "3  2021-09-01  2021-09-02  www.silicook.co.kr/m      0  MOBILE  \n",
       "4  2021-09-01  2021-09-02  www.silicook.co.kr/m      0  MOBILE  \n",
       "\n",
       "[5 rows x 51 columns]"
      ]
     },
     "execution_count": 9,
     "metadata": {},
     "output_type": "execute_result"
    }
   ],
   "source": [
    "raw_df.head()"
   ]
  },
  {
   "cell_type": "code",
   "execution_count": 10,
   "id": "34f1c86f",
   "metadata": {},
   "outputs": [
    {
     "name": "stdout",
     "output_type": "stream",
     "text": [
      "<class 'pandas.core.frame.DataFrame'>\n",
      "RangeIndex: 29274 entries, 0 to 29273\n",
      "Data columns (total 51 columns):\n",
      " #   Column             Non-Null Count  Dtype  \n",
      "---  ------             --------------  -----  \n",
      " 0   Unnamed: 0         29274 non-null  int64  \n",
      " 1   주문번호               29274 non-null  object \n",
      " 2   품목별 주문번호           29274 non-null  object \n",
      " 3   배송번호               29274 non-null  object \n",
      " 4   주문상품코드             29274 non-null  object \n",
      " 5   주문상품명              29274 non-null  object \n",
      " 6   상품옵션(옵션가격/타이틀미노출)  7092 non-null   object \n",
      " 7   옵션별상품코드            29274 non-null  object \n",
      " 8   주문품목 수량            29274 non-null  int64  \n",
      " 9   주문품목 단가            29274 non-null  int64  \n",
      " 10  주문품목 결제금액          29274 non-null  int64  \n",
      " 11  주문일시               29274 non-null  object \n",
      " 12  주문경로               28301 non-null  object \n",
      " 13  주문검색어              22114 non-null  object \n",
      " 14  구매횟수               29273 non-null  float64\n",
      " 15  주소_도시급             29274 non-null  object \n",
      " 16  주소_시군구급            29274 non-null  object \n",
      " 17  결제금액(주문전체)         29274 non-null  int64  \n",
      " 18  결제금액(품목별)          29274 non-null  int64  \n",
      " 19  결제방법               29274 non-null  object \n",
      " 20  결제상태               29274 non-null  object \n",
      " 21  주문상태(품목별)          29274 non-null  object \n",
      " 22  입금확인일(결제일)         28477 non-null  object \n",
      " 23  송장입력일              27248 non-null  object \n",
      " 24  배송중처리일             27248 non-null  object \n",
      " 25  배송완료일              27227 non-null  object \n",
      " 26  거래완료일              26830 non-null  object \n",
      " 27  개인/기업              29274 non-null  object \n",
      " 28  회원가입일              29273 non-null  object \n",
      " 29  유입경로               29274 non-null  object \n",
      " 30  연계주문               22846 non-null  object \n",
      " 31  상품 총금액             27587 non-null  float64\n",
      " 32  최초 결제 금액           29274 non-null  int64  \n",
      " 33  상품번호               29274 non-null  int64  \n",
      " 34  대분류                29274 non-null  object \n",
      " 35  브랜드                29274 non-null  object \n",
      " 36  상품 검색어             29274 non-null  object \n",
      " 37  상품등록일              29274 non-null  object \n",
      " 38  아이디                29274 non-null  object \n",
      " 39  가입일                29274 non-null  object \n",
      " 40  회원구분               29274 non-null  object \n",
      " 41  성별                 29274 non-null  object \n",
      " 42  나이                 29274 non-null  object \n",
      " 43  회원그룹               29274 non-null  object \n",
      " 44  구매건수               29274 non-null  int64  \n",
      " 45  구매금액               29274 non-null  int64  \n",
      " 46  최근주문일              29274 non-null  object \n",
      " 47  최근로그인              29274 non-null  object \n",
      " 48  유입경로.1             29274 non-null  object \n",
      " 49  유입검색어              29274 non-null  object \n",
      " 50  가입경로               29274 non-null  object \n",
      "dtypes: float64(2), int64(10), object(39)\n",
      "memory usage: 11.4+ MB\n"
     ]
    }
   ],
   "source": [
    "raw_df.info()"
   ]
  },
  {
   "cell_type": "markdown",
   "id": "1a074177",
   "metadata": {},
   "source": [
    "#### 데이터 전처리"
   ]
  },
  {
   "cell_type": "code",
   "execution_count": 11,
   "id": "58895447",
   "metadata": {},
   "outputs": [
    {
     "data": {
      "text/plain": [
       "Unnamed: 0               0\n",
       "주문번호                     0\n",
       "품목별 주문번호                 0\n",
       "배송번호                     0\n",
       "주문상품코드                   0\n",
       "주문상품명                    0\n",
       "상품옵션(옵션가격/타이틀미노출)    22182\n",
       "옵션별상품코드                  0\n",
       "주문품목 수량                  0\n",
       "주문품목 단가                  0\n",
       "주문품목 결제금액                0\n",
       "주문일시                     0\n",
       "주문경로                   973\n",
       "주문검색어                 7160\n",
       "구매횟수                     1\n",
       "주소_도시급                   0\n",
       "주소_시군구급                  0\n",
       "결제금액(주문전체)               0\n",
       "결제금액(품목별)                0\n",
       "결제방법                     0\n",
       "결제상태                     0\n",
       "주문상태(품목별)                0\n",
       "입금확인일(결제일)             797\n",
       "송장입력일                 2026\n",
       "배송중처리일                2026\n",
       "배송완료일                 2047\n",
       "거래완료일                 2444\n",
       "개인/기업                    0\n",
       "회원가입일                    1\n",
       "유입경로                     0\n",
       "연계주문                  6428\n",
       "상품 총금액                1687\n",
       "최초 결제 금액                 0\n",
       "상품번호                     0\n",
       "대분류                      0\n",
       "브랜드                      0\n",
       "상품 검색어                   0\n",
       "상품등록일                    0\n",
       "아이디                      0\n",
       "가입일                      0\n",
       "회원구분                     0\n",
       "성별                       0\n",
       "나이                       0\n",
       "회원그룹                     0\n",
       "구매건수                     0\n",
       "구매금액                     0\n",
       "최근주문일                    0\n",
       "최근로그인                    0\n",
       "유입경로.1                   0\n",
       "유입검색어                    0\n",
       "가입경로                     0\n",
       "dtype: int64"
      ]
     },
     "execution_count": 11,
     "metadata": {},
     "output_type": "execute_result"
    }
   ],
   "source": [
    "# columne 별 결측값 확인\n",
    "raw_df.isnull().sum()"
   ]
  },
  {
   "cell_type": "code",
   "execution_count": 14,
   "id": "8e9e059f",
   "metadata": {},
   "outputs": [],
   "source": [
    "# 거래완료일의 결측값이 있는 행은 거래가 이루어지지 않은 것으로 간주. --> 행 삭제 \n",
    "df = raw_df.dropna(axis = 'index', subset=['거래완료일'], how = 'any')"
   ]
  },
  {
   "cell_type": "code",
   "execution_count": 15,
   "id": "ee64b1d2",
   "metadata": {},
   "outputs": [
    {
     "name": "stdout",
     "output_type": "stream",
     "text": [
      "<class 'pandas.core.frame.DataFrame'>\n",
      "Int64Index: 26830 entries, 0 to 29273\n",
      "Data columns (total 51 columns):\n",
      " #   Column             Non-Null Count  Dtype  \n",
      "---  ------             --------------  -----  \n",
      " 0   Unnamed: 0         26830 non-null  int64  \n",
      " 1   주문번호               26830 non-null  object \n",
      " 2   품목별 주문번호           26830 non-null  object \n",
      " 3   배송번호               26830 non-null  object \n",
      " 4   주문상품코드             26830 non-null  object \n",
      " 5   주문상품명              26830 non-null  object \n",
      " 6   상품옵션(옵션가격/타이틀미노출)  6538 non-null   object \n",
      " 7   옵션별상품코드            26830 non-null  object \n",
      " 8   주문품목 수량            26830 non-null  int64  \n",
      " 9   주문품목 단가            26830 non-null  int64  \n",
      " 10  주문품목 결제금액          26830 non-null  int64  \n",
      " 11  주문일시               26830 non-null  object \n",
      " 12  주문경로               25948 non-null  object \n",
      " 13  주문검색어              20270 non-null  object \n",
      " 14  구매횟수               26829 non-null  float64\n",
      " 15  주소_도시급             26830 non-null  object \n",
      " 16  주소_시군구급            26830 non-null  object \n",
      " 17  결제금액(주문전체)         26830 non-null  int64  \n",
      " 18  결제금액(품목별)          26830 non-null  int64  \n",
      " 19  결제방법               26830 non-null  object \n",
      " 20  결제상태               26830 non-null  object \n",
      " 21  주문상태(품목별)          26830 non-null  object \n",
      " 22  입금확인일(결제일)         26830 non-null  object \n",
      " 23  송장입력일              26830 non-null  object \n",
      " 24  배송중처리일             26830 non-null  object \n",
      " 25  배송완료일              26830 non-null  object \n",
      " 26  거래완료일              26830 non-null  object \n",
      " 27  개인/기업              26830 non-null  object \n",
      " 28  회원가입일              26829 non-null  object \n",
      " 29  유입경로               26830 non-null  object \n",
      " 30  연계주문               20986 non-null  object \n",
      " 31  상품 총금액             26819 non-null  float64\n",
      " 32  최초 결제 금액           26830 non-null  int64  \n",
      " 33  상품번호               26830 non-null  int64  \n",
      " 34  대분류                26830 non-null  object \n",
      " 35  브랜드                26830 non-null  object \n",
      " 36  상품 검색어             26830 non-null  object \n",
      " 37  상품등록일              26830 non-null  object \n",
      " 38  아이디                26830 non-null  object \n",
      " 39  가입일                26830 non-null  object \n",
      " 40  회원구분               26830 non-null  object \n",
      " 41  성별                 26830 non-null  object \n",
      " 42  나이                 26830 non-null  object \n",
      " 43  회원그룹               26830 non-null  object \n",
      " 44  구매건수               26830 non-null  int64  \n",
      " 45  구매금액               26830 non-null  int64  \n",
      " 46  최근주문일              26830 non-null  object \n",
      " 47  최근로그인              26830 non-null  object \n",
      " 48  유입경로.1             26830 non-null  object \n",
      " 49  유입검색어              26830 non-null  object \n",
      " 50  가입경로               26830 non-null  object \n",
      "dtypes: float64(2), int64(10), object(39)\n",
      "memory usage: 10.6+ MB\n"
     ]
    }
   ],
   "source": [
    "df.info()\n"
   ]
  },
  {
   "cell_type": "code",
   "execution_count": 16,
   "id": "ac42764b",
   "metadata": {},
   "outputs": [
    {
     "data": {
      "text/plain": [
       "Unnamed: 0               0\n",
       "주문번호                     0\n",
       "품목별 주문번호                 0\n",
       "배송번호                     0\n",
       "주문상품코드                   0\n",
       "주문상품명                    0\n",
       "상품옵션(옵션가격/타이틀미노출)    20292\n",
       "옵션별상품코드                  0\n",
       "주문품목 수량                  0\n",
       "주문품목 단가                  0\n",
       "주문품목 결제금액                0\n",
       "주문일시                     0\n",
       "주문경로                   882\n",
       "주문검색어                 6560\n",
       "구매횟수                     1\n",
       "주소_도시급                   0\n",
       "주소_시군구급                  0\n",
       "결제금액(주문전체)               0\n",
       "결제금액(품목별)                0\n",
       "결제방법                     0\n",
       "결제상태                     0\n",
       "주문상태(품목별)                0\n",
       "입금확인일(결제일)               0\n",
       "송장입력일                    0\n",
       "배송중처리일                   0\n",
       "배송완료일                    0\n",
       "거래완료일                    0\n",
       "개인/기업                    0\n",
       "회원가입일                    1\n",
       "유입경로                     0\n",
       "연계주문                  5844\n",
       "상품 총금액                  11\n",
       "최초 결제 금액                 0\n",
       "상품번호                     0\n",
       "대분류                      0\n",
       "브랜드                      0\n",
       "상품 검색어                   0\n",
       "상품등록일                    0\n",
       "아이디                      0\n",
       "가입일                      0\n",
       "회원구분                     0\n",
       "성별                       0\n",
       "나이                       0\n",
       "회원그룹                     0\n",
       "구매건수                     0\n",
       "구매금액                     0\n",
       "최근주문일                    0\n",
       "최근로그인                    0\n",
       "유입경로.1                   0\n",
       "유입검색어                    0\n",
       "가입경로                     0\n",
       "dtype: int64"
      ]
     },
     "execution_count": 16,
     "metadata": {},
     "output_type": "execute_result"
    }
   ],
   "source": [
    "# 거래완료 된 건의 row 수 : 26,380건 확인. \n",
    "# 결측치 재확인\n",
    "\n",
    "df.isnull().sum()"
   ]
  },
  {
   "cell_type": "markdown",
   "id": "c35d6d66",
   "metadata": {},
   "source": [
    "#### 고객 아이디 기준으로 고객별 특징 추출 \n",
    "       - 이를 통해 RFM 분석을 위한 데이터 정제"
   ]
  },
  {
   "cell_type": "code",
   "execution_count": 18,
   "id": "1d6ceaf2",
   "metadata": {},
   "outputs": [
    {
     "data": {
      "text/plain": [
       "6814"
      ]
     },
     "execution_count": 18,
     "metadata": {},
     "output_type": "execute_result"
    }
   ],
   "source": [
    "len(df.아이디.unique())"
   ]
  },
  {
   "cell_type": "code",
   "execution_count": 19,
   "id": "0a23d843",
   "metadata": {},
   "outputs": [],
   "source": [
    "# 총 6,814개의 아이디로 구성. 즉 총 6,814 명의 고객\n",
    "# 고객(아이디)별 최근성(Recency), 주문건수(Frequency), 구매금액(Monetary)  칼럼 생성 및 데이터 추출  --> 고객 군집화"
   ]
  },
  {
   "cell_type": "code",
   "execution_count": 27,
   "id": "fa8b0191",
   "metadata": {},
   "outputs": [
    {
     "data": {
      "text/html": [
       "<div>\n",
       "<style scoped>\n",
       "    .dataframe tbody tr th:only-of-type {\n",
       "        vertical-align: middle;\n",
       "    }\n",
       "\n",
       "    .dataframe tbody tr th {\n",
       "        vertical-align: top;\n",
       "    }\n",
       "\n",
       "    .dataframe thead th {\n",
       "        text-align: right;\n",
       "    }\n",
       "</style>\n",
       "<table border=\"1\" class=\"dataframe\">\n",
       "  <thead>\n",
       "    <tr style=\"text-align: right;\">\n",
       "      <th></th>\n",
       "      <th>고객_id</th>\n",
       "    </tr>\n",
       "  </thead>\n",
       "  <tbody>\n",
       "    <tr>\n",
       "      <th>0</th>\n",
       "      <td>ja6227</td>\n",
       "    </tr>\n",
       "    <tr>\n",
       "      <th>1</th>\n",
       "      <td>ka@12ddd</td>\n",
       "    </tr>\n",
       "    <tr>\n",
       "      <th>2</th>\n",
       "      <td>lazurpleur</td>\n",
       "    </tr>\n",
       "    <tr>\n",
       "      <th>3</th>\n",
       "      <td>nh@5f65e332</td>\n",
       "    </tr>\n",
       "    <tr>\n",
       "      <th>4</th>\n",
       "      <td>pointhj01</td>\n",
       "    </tr>\n",
       "  </tbody>\n",
       "</table>\n",
       "</div>"
      ],
      "text/plain": [
       "         고객_id\n",
       "0       ja6227\n",
       "1     ka@12ddd\n",
       "2   lazurpleur\n",
       "3  nh@5f65e332\n",
       "4    pointhj01"
      ]
     },
     "execution_count": 27,
     "metadata": {},
     "output_type": "execute_result"
    }
   ],
   "source": [
    "# 고객 군집화를 위한 dataframe 생성\n",
    "cluster_df = pd.DataFrame({'고객_id' : df.아이디.unique()})\n",
    "cluster_df.head()\n",
    "#cluster_df.info()"
   ]
  },
  {
   "cell_type": "code",
   "execution_count": 21,
   "id": "df9e6cc7",
   "metadata": {},
   "outputs": [],
   "source": [
    "# 주문건수(Frequency) \n",
    "#  1) 고객(아이디)와 주문번호 기준으로 중복값 제거 후, 고객(아이디)별 갯수를 count --> 주문횟수가 됨\n",
    "num_order_by_id = df.drop_duplicates(subset =['아이디', '주문번호'])['아이디'].value_counts()"
   ]
  },
  {
   "cell_type": "code",
   "execution_count": 23,
   "id": "d339c542",
   "metadata": {},
   "outputs": [
    {
     "name": "stdout",
     "output_type": "stream",
     "text": [
      "<class 'pandas.core.series.Series'>\n"
     ]
    },
    {
     "data": {
      "text/plain": [
       "nh@5fdacf4    18\n",
       "shenshop      18\n",
       "jungliin      16\n",
       "nh@2851d86    13\n",
       "j3heeya       12\n",
       "Name: 아이디, dtype: int64"
      ]
     },
     "execution_count": 23,
     "metadata": {},
     "output_type": "execute_result"
    }
   ],
   "source": [
    "print(type(num_order_by_id))\n",
    "num_order_by_id.head()"
   ]
  },
  {
   "cell_type": "code",
   "execution_count": 30,
   "id": "5bdb0378",
   "metadata": {},
   "outputs": [
    {
     "data": {
      "text/plain": [
       "array([ 1,  2,  3, 18,  4,  5,  6,  7,  8, 16, 12,  9, 13], dtype=int64)"
      ]
     },
     "execution_count": 30,
     "metadata": {},
     "output_type": "execute_result"
    }
   ],
   "source": [
    "#  고객_id를 num_order_by_id로 대체하여, cluster_df에 '주문횟수'를 생성\n",
    "cluster_df['주문횟수'] = cluster_df['고객_id'].replace(num_order_by_id.to_dict())\n",
    "cluster_df.head()\n",
    "cluster_df.주문횟수.unique()"
   ]
  },
  {
   "cell_type": "code",
   "execution_count": null,
   "id": "48f25f0e",
   "metadata": {},
   "outputs": [],
   "source": []
  }
 ],
 "metadata": {
  "kernelspec": {
   "display_name": "Python 3 (ipykernel)",
   "language": "python",
   "name": "python3"
  },
  "language_info": {
   "codemirror_mode": {
    "name": "ipython",
    "version": 3
   },
   "file_extension": ".py",
   "mimetype": "text/x-python",
   "name": "python",
   "nbconvert_exporter": "python",
   "pygments_lexer": "ipython3",
   "version": "3.9.7"
  }
 },
 "nbformat": 4,
 "nbformat_minor": 5
}
